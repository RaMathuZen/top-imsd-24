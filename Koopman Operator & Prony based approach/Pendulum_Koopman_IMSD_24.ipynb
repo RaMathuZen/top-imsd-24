{
  "cells": [
    {
      "cell_type": "markdown",
      "source": [
        "# Data-driven Identification of linearized dynamics of a Non-linear System (3D Pendulum) & Eigenvalue estimation using Koopman Operator Theory and Prony's method"
      ],
      "metadata": {
        "id": "OXi8ZwE3vTwm"
      }
    },
    {
      "cell_type": "markdown",
      "source": [
        "# Pre-Requisites\n",
        "\n",
        "## 1. Koopman Operator Theory\n",
        "\n",
        "- [Refer the the description section](https://github.com/GaloisInc/dlkoopman?tab=readme-ov-file#description)\n",
        "\n",
        "## 2. Prony's method\n",
        "\n",
        "- It is a way of fitting exponentials to a time-series data and powers of those corresponds to eigenvalues of the system.\n",
        "\n",
        "(This method alone is worth a separate approach and this is used since I couldn't find a way to extract eigenvalues of system at *lower dimensions*).\n",
        "\n",
        "### References\n",
        "\n",
        "#### For Koopman Operator Theory\n",
        "\n",
        "1. [Code for the paper \"Deep learning for universal linear embeddings of nonlinear dynamics\" by Bethany Lusch, J. Nathan Kutz, and Steven L. Brunton](https://github.com/BethanyL/DeepKoopman)\n",
        "\n",
        "2. [Notes on Koopman Operator Theory\n",
        "Steven L. Brunton](https://fluids.ac.uk/files/meetings/KoopmanNotes.1575558616.pdf)\n",
        "\n",
        "#### For Prony's method\n",
        "\n",
        "1. [A Tutorial on Data-Driven Eigenvalue\n",
        "Identification: Prony Analysis, Matrix Pencil and\n",
        "Eigensystem Realization Algorithm](https://web.archive.org/web/20240421173537/https://power.eng.usf.edu/docs/papers/2019/tutorial.pdf)\n",
        "2. [Exam Question on Fitting Sums of Exponentials to Data](https://sachinashanbhag.blogspot.com/2017/08exam-question-on-fitting-sums-of.html)"
      ],
      "metadata": {
        "id": "l0RKCgaPXU1r"
      }
    },
    {
      "cell_type": "markdown",
      "metadata": {
        "id": "B2OhylsZb72N"
      },
      "source": [
        "# Approach\n",
        "\n",
        "- First the 3D pendulum system was simulated in MATLAB by using the DAE provided and various collection of state trajectories (a list of ($\\psi$, $\\theta$), with each of 51 states) were generated & stored in XTrain, XTest, XVal arrays in a zip file (*available in our [GitHub repository]()*).\n",
        "\n",
        "- The range of initial conditions are (used for simulation) : $\\psi \\ \\epsilon \\ [- \\pi, \\pi]$,   $\\theta \\ \\epsilon \\ [- 0.01, 0.01]$\n",
        "  - To learn the linearized dynamics around this operating equilibrium point.\n",
        "\n",
        "- Then using the data the Koopman matrix (size: 50x50) was learned through deep learning.\n",
        "  - Using the [dlkoopman](https://github.com/GaloisInc/dlkoopman) package\n",
        "\n",
        "- Next using the learned Koopman Matrix a state trajectory was generated.\n",
        "\n",
        "- Then using Prony's method, the eigenvalues are estimated."
      ]
    },
    {
      "cell_type": "markdown",
      "source": [
        "# Setup"
      ],
      "metadata": {
        "id": "ks7OC2EV6Yv3"
      }
    },
    {
      "cell_type": "markdown",
      "source": [
        "## Setup Data"
      ],
      "metadata": {
        "id": "g5VJG1xGX95x"
      }
    },
    {
      "cell_type": "code",
      "execution_count": 1,
      "metadata": {
        "colab": {
          "base_uri": "https://localhost:8080/"
        },
        "id": "5Kn6S8PiRQQZ",
        "outputId": "31028d58-4a62-4cb2-8802-caa170dac26b"
      },
      "outputs": [
        {
          "output_type": "stream",
          "name": "stdout",
          "text": [
            "Mounted at /content/drive\n"
          ]
        }
      ],
      "source": [
        "from google.colab import drive\n",
        "drive.mount('/content/drive')"
      ]
    },
    {
      "cell_type": "code",
      "execution_count": 2,
      "metadata": {
        "colab": {
          "base_uri": "https://localhost:8080/"
        },
        "id": "Q6Ar2ehDSh5j",
        "outputId": "5c4d86c7-b96a-4419-9f76-4849fb1502e0"
      },
      "outputs": [
        {
          "output_type": "stream",
          "name": "stdout",
          "text": [
            "/content/drive/MyDrive/3DP_KOOP_1\n"
          ]
        }
      ],
      "source": [
        "%cd /content/drive/MyDrive/3DP_KOOP_1       #NOTE: Upload the Zip file, with this folder name in you drive before hand"
      ]
    },
    {
      "cell_type": "code",
      "execution_count": 3,
      "metadata": {
        "id": "cO4DqU2CRrYv"
      },
      "outputs": [],
      "source": [
        "import zipfile\n",
        "import pandas as pd\n",
        "import os\n",
        "\n",
        "zip_file_name = \"3dp3.zip\"\n",
        "with zipfile.ZipFile(zip_file_name, 'r') as zip_ref:\n",
        "    zip_ref.extractall()\n",
        "extracted_files = os.listdir()"
      ]
    },
    {
      "cell_type": "code",
      "execution_count": 4,
      "metadata": {
        "colab": {
          "base_uri": "https://localhost:8080/"
        },
        "id": "dHZbGXcZAXzu",
        "outputId": "ba1778dd-92a2-4fee-d38d-e785d19c2c0f"
      },
      "outputs": [
        {
          "output_type": "stream",
          "name": "stdout",
          "text": [
            "Filename: 3DPendulum1_test_x.csv, Shape: (25500, 4)\n",
            "Filename: 3DPendulum1_train1_x.csv, Shape: (178500, 4)\n",
            "Filename: 3DPendulum1_train2_x.csv, Shape: (178500, 4)\n",
            "Filename: 3DPendulum1_train3_x.csv, Shape: (178500, 4)\n",
            "Filename: 3DPendulum1_val_x.csv, Shape: (51000, 4)\n"
          ]
        }
      ],
      "source": [
        "import glob\n",
        "import numpy as np\n",
        "def load_csv_files(directory):\n",
        "    data_dict = {}\n",
        "\n",
        "    # Get list of all CSV files in the directory\n",
        "    csv_files = glob.glob(os.path.join(directory, '*.csv'))\n",
        "\n",
        "    for csv_file in csv_files:\n",
        "        # Extract filename from path\n",
        "        filename = os.path.basename(csv_file)\n",
        "        # Load CSV file into numpy array\n",
        "        data = np.loadtxt(csv_file, delimiter=',')\n",
        "        # Store numpy array in dictionary with filename as key\n",
        "        data_dict[filename] = data\n",
        "\n",
        "    return data_dict\n",
        "\n",
        "directory = '/content/drive/MyDrive/3DP_KOOP_1'\n",
        "csv_data = load_csv_files(directory)\n",
        "# Access data using filenames as keys\n",
        "for filename, data in csv_data.items():\n",
        "    print(f'Filename: {filename}, Shape: {data.shape}')\n"
      ]
    },
    {
      "cell_type": "code",
      "execution_count": 5,
      "metadata": {
        "id": "96U-aw2dIy1N"
      },
      "outputs": [],
      "source": [
        "Xtest_arr = []\n",
        "for filename, data in csv_data.items():\n",
        "    if filename == '3DPendulum1_test_x.csv' :\n",
        "      Xtest = data.reshape(500,51,4)[:,:,:2]\n",
        "    if filename == '3DPendulum1_val_x.csv' :\n",
        "      Xval = data.reshape(1000,51,4)[:,:,:2]\n",
        "\n",
        "    else :\n",
        "      Xtest_arr.append(data)"
      ]
    },
    {
      "cell_type": "code",
      "execution_count": 6,
      "metadata": {
        "colab": {
          "base_uri": "https://localhost:8080/"
        },
        "id": "KYmbKJJZGVsJ",
        "outputId": "d85caa01-b7b4-49c1-b290-32d33e32406c"
      },
      "outputs": [
        {
          "output_type": "stream",
          "name": "stdout",
          "text": [
            "(25500, 4)\n",
            "(178500, 4)\n",
            "(178500, 4)\n",
            "(178500, 4)\n"
          ]
        }
      ],
      "source": [
        "for i in range(len(Xtest_arr)) :\n",
        "  print(Xtest_arr[i].shape)"
      ]
    },
    {
      "cell_type": "code",
      "execution_count": 7,
      "metadata": {
        "id": "_VqAqKAdGjWD"
      },
      "outputs": [],
      "source": [
        "Xtrain = np.concatenate((Xtest_arr[1],Xtest_arr[2],Xtest_arr[3]), axis=1).reshape(10500,51,4)[:,:,:2]"
      ]
    },
    {
      "cell_type": "markdown",
      "source": [
        "## Install and Setup `dlkoopman` library"
      ],
      "metadata": {
        "id": "HB7kE0aqZ_AR"
      }
    },
    {
      "cell_type": "code",
      "execution_count": 8,
      "metadata": {
        "colab": {
          "base_uri": "https://localhost:8080/"
        },
        "id": "LaruiGB65LY8",
        "outputId": "3f19bced-03e0-4e1a-c166-2e9f5bab2f73"
      },
      "outputs": [
        {
          "output_type": "stream",
          "name": "stdout",
          "text": [
            "Collecting dlkoopman\n",
            "  Downloading dlkoopman-1.2.0-py3-none-any.whl (33 kB)\n",
            "Requirement already satisfied: matplotlib<4.0.0,>=3.4.2 in /usr/local/lib/python3.10/dist-packages (from dlkoopman) (3.7.1)\n",
            "Requirement already satisfied: numpy<2.0.0,>=1.23.0 in /usr/local/lib/python3.10/dist-packages (from dlkoopman) (1.25.2)\n",
            "Requirement already satisfied: pandas>=1.2.3 in /usr/local/lib/python3.10/dist-packages (from dlkoopman) (2.0.3)\n",
            "Collecting shortuuid<2.0.0,>=1.0.9 (from dlkoopman)\n",
            "  Downloading shortuuid-1.0.13-py3-none-any.whl (10 kB)\n",
            "Requirement already satisfied: torch>=1.12.1 in /usr/local/lib/python3.10/dist-packages (from dlkoopman) (2.2.1+cu121)\n",
            "Requirement already satisfied: tqdm<5.0.0,>=4.61.1 in /usr/local/lib/python3.10/dist-packages (from dlkoopman) (4.66.4)\n",
            "Requirement already satisfied: contourpy>=1.0.1 in /usr/local/lib/python3.10/dist-packages (from matplotlib<4.0.0,>=3.4.2->dlkoopman) (1.2.1)\n",
            "Requirement already satisfied: cycler>=0.10 in /usr/local/lib/python3.10/dist-packages (from matplotlib<4.0.0,>=3.4.2->dlkoopman) (0.12.1)\n",
            "Requirement already satisfied: fonttools>=4.22.0 in /usr/local/lib/python3.10/dist-packages (from matplotlib<4.0.0,>=3.4.2->dlkoopman) (4.51.0)\n",
            "Requirement already satisfied: kiwisolver>=1.0.1 in /usr/local/lib/python3.10/dist-packages (from matplotlib<4.0.0,>=3.4.2->dlkoopman) (1.4.5)\n",
            "Requirement already satisfied: packaging>=20.0 in /usr/local/lib/python3.10/dist-packages (from matplotlib<4.0.0,>=3.4.2->dlkoopman) (24.0)\n",
            "Requirement already satisfied: pillow>=6.2.0 in /usr/local/lib/python3.10/dist-packages (from matplotlib<4.0.0,>=3.4.2->dlkoopman) (9.4.0)\n",
            "Requirement already satisfied: pyparsing>=2.3.1 in /usr/local/lib/python3.10/dist-packages (from matplotlib<4.0.0,>=3.4.2->dlkoopman) (3.1.2)\n",
            "Requirement already satisfied: python-dateutil>=2.7 in /usr/local/lib/python3.10/dist-packages (from matplotlib<4.0.0,>=3.4.2->dlkoopman) (2.8.2)\n",
            "Requirement already satisfied: pytz>=2020.1 in /usr/local/lib/python3.10/dist-packages (from pandas>=1.2.3->dlkoopman) (2023.4)\n",
            "Requirement already satisfied: tzdata>=2022.1 in /usr/local/lib/python3.10/dist-packages (from pandas>=1.2.3->dlkoopman) (2024.1)\n",
            "Requirement already satisfied: filelock in /usr/local/lib/python3.10/dist-packages (from torch>=1.12.1->dlkoopman) (3.14.0)\n",
            "Requirement already satisfied: typing-extensions>=4.8.0 in /usr/local/lib/python3.10/dist-packages (from torch>=1.12.1->dlkoopman) (4.11.0)\n",
            "Requirement already satisfied: sympy in /usr/local/lib/python3.10/dist-packages (from torch>=1.12.1->dlkoopman) (1.12)\n",
            "Requirement already satisfied: networkx in /usr/local/lib/python3.10/dist-packages (from torch>=1.12.1->dlkoopman) (3.3)\n",
            "Requirement already satisfied: jinja2 in /usr/local/lib/python3.10/dist-packages (from torch>=1.12.1->dlkoopman) (3.1.4)\n",
            "Requirement already satisfied: fsspec in /usr/local/lib/python3.10/dist-packages (from torch>=1.12.1->dlkoopman) (2023.6.0)\n",
            "Collecting nvidia-cuda-nvrtc-cu12==12.1.105 (from torch>=1.12.1->dlkoopman)\n",
            "  Using cached nvidia_cuda_nvrtc_cu12-12.1.105-py3-none-manylinux1_x86_64.whl (23.7 MB)\n",
            "Collecting nvidia-cuda-runtime-cu12==12.1.105 (from torch>=1.12.1->dlkoopman)\n",
            "  Using cached nvidia_cuda_runtime_cu12-12.1.105-py3-none-manylinux1_x86_64.whl (823 kB)\n",
            "Collecting nvidia-cuda-cupti-cu12==12.1.105 (from torch>=1.12.1->dlkoopman)\n",
            "  Using cached nvidia_cuda_cupti_cu12-12.1.105-py3-none-manylinux1_x86_64.whl (14.1 MB)\n",
            "Collecting nvidia-cudnn-cu12==8.9.2.26 (from torch>=1.12.1->dlkoopman)\n",
            "  Using cached nvidia_cudnn_cu12-8.9.2.26-py3-none-manylinux1_x86_64.whl (731.7 MB)\n",
            "Collecting nvidia-cublas-cu12==12.1.3.1 (from torch>=1.12.1->dlkoopman)\n",
            "  Using cached nvidia_cublas_cu12-12.1.3.1-py3-none-manylinux1_x86_64.whl (410.6 MB)\n",
            "Collecting nvidia-cufft-cu12==11.0.2.54 (from torch>=1.12.1->dlkoopman)\n",
            "  Using cached nvidia_cufft_cu12-11.0.2.54-py3-none-manylinux1_x86_64.whl (121.6 MB)\n",
            "Collecting nvidia-curand-cu12==10.3.2.106 (from torch>=1.12.1->dlkoopman)\n",
            "  Using cached nvidia_curand_cu12-10.3.2.106-py3-none-manylinux1_x86_64.whl (56.5 MB)\n",
            "Collecting nvidia-cusolver-cu12==11.4.5.107 (from torch>=1.12.1->dlkoopman)\n",
            "  Using cached nvidia_cusolver_cu12-11.4.5.107-py3-none-manylinux1_x86_64.whl (124.2 MB)\n",
            "Collecting nvidia-cusparse-cu12==12.1.0.106 (from torch>=1.12.1->dlkoopman)\n",
            "  Using cached nvidia_cusparse_cu12-12.1.0.106-py3-none-manylinux1_x86_64.whl (196.0 MB)\n",
            "Collecting nvidia-nccl-cu12==2.19.3 (from torch>=1.12.1->dlkoopman)\n",
            "  Using cached nvidia_nccl_cu12-2.19.3-py3-none-manylinux1_x86_64.whl (166.0 MB)\n",
            "Collecting nvidia-nvtx-cu12==12.1.105 (from torch>=1.12.1->dlkoopman)\n",
            "  Using cached nvidia_nvtx_cu12-12.1.105-py3-none-manylinux1_x86_64.whl (99 kB)\n",
            "Requirement already satisfied: triton==2.2.0 in /usr/local/lib/python3.10/dist-packages (from torch>=1.12.1->dlkoopman) (2.2.0)\n",
            "Collecting nvidia-nvjitlink-cu12 (from nvidia-cusolver-cu12==11.4.5.107->torch>=1.12.1->dlkoopman)\n",
            "  Using cached nvidia_nvjitlink_cu12-12.4.127-py3-none-manylinux2014_x86_64.whl (21.1 MB)\n",
            "Requirement already satisfied: six>=1.5 in /usr/local/lib/python3.10/dist-packages (from python-dateutil>=2.7->matplotlib<4.0.0,>=3.4.2->dlkoopman) (1.16.0)\n",
            "Requirement already satisfied: MarkupSafe>=2.0 in /usr/local/lib/python3.10/dist-packages (from jinja2->torch>=1.12.1->dlkoopman) (2.1.5)\n",
            "Requirement already satisfied: mpmath>=0.19 in /usr/local/lib/python3.10/dist-packages (from sympy->torch>=1.12.1->dlkoopman) (1.3.0)\n",
            "Installing collected packages: shortuuid, nvidia-nvtx-cu12, nvidia-nvjitlink-cu12, nvidia-nccl-cu12, nvidia-curand-cu12, nvidia-cufft-cu12, nvidia-cuda-runtime-cu12, nvidia-cuda-nvrtc-cu12, nvidia-cuda-cupti-cu12, nvidia-cublas-cu12, nvidia-cusparse-cu12, nvidia-cudnn-cu12, nvidia-cusolver-cu12, dlkoopman\n",
            "Successfully installed dlkoopman-1.2.0 nvidia-cublas-cu12-12.1.3.1 nvidia-cuda-cupti-cu12-12.1.105 nvidia-cuda-nvrtc-cu12-12.1.105 nvidia-cuda-runtime-cu12-12.1.105 nvidia-cudnn-cu12-8.9.2.26 nvidia-cufft-cu12-11.0.2.54 nvidia-curand-cu12-10.3.2.106 nvidia-cusolver-cu12-11.4.5.107 nvidia-cusparse-cu12-12.1.0.106 nvidia-nccl-cu12-2.19.3 nvidia-nvjitlink-cu12-12.4.127 nvidia-nvtx-cu12-12.1.105 shortuuid-1.0.13\n"
          ]
        }
      ],
      "source": [
        "!pip install dlkoopman"
      ]
    },
    {
      "cell_type": "code",
      "source": [
        "from dlkoopman.traj_pred import *\n",
        "from dlkoopman import utils\n",
        "import numpy as np\n",
        "import scipy\n",
        "import cmath\n",
        "import math\n",
        "import time"
      ],
      "metadata": {
        "id": "9zSaCIv97PWS"
      },
      "execution_count": 50,
      "outputs": []
    },
    {
      "cell_type": "code",
      "execution_count": 10,
      "metadata": {
        "id": "HpJ60atFEUAd"
      },
      "outputs": [],
      "source": [
        "dh = TrajPredDataHandler(      # For Loading data\n",
        "    Xtr=Xtrain,\n",
        "    Xva=Xval,\n",
        "    Xte=Xtest\n",
        ")\n"
      ]
    },
    {
      "cell_type": "code",
      "execution_count": 11,
      "metadata": {
        "id": "CP8w6e7yMFE6"
      },
      "outputs": [],
      "source": [
        "utils.set_seed(10)"
      ]
    },
    {
      "cell_type": "code",
      "execution_count": 12,
      "metadata": {
        "colab": {
          "base_uri": "https://localhost:8080/"
        },
        "id": "VTmAUbR1MIFu",
        "outputId": "df79840e-f123-4dab-b7cc-7c3239747ed5"
      },
      "outputs": [
        {
          "output_type": "stream",
          "name": "stdout",
          "text": [
            "Log file = /content/drive/MyDrive/3DP_KOOP_1/log_cTTVMiy7bUa5wpDqMNRaMy.log\n"
          ]
        }
      ],
      "source": [
        "tp = TrajPred(\n",
        "    dh = dh,\n",
        "    encoded_size = 50 #50\n",
        ")"
      ]
    },
    {
      "cell_type": "markdown",
      "source": [
        "# Prony's method"
      ],
      "metadata": {
        "id": "vKX0pr9VcFpj"
      }
    },
    {
      "cell_type": "markdown",
      "source": [
        "- Refer pages 2, 3 from `Prony's Method Reference 1` for the math & approach followed in the below code"
      ],
      "metadata": {
        "id": "lvvGtbCu9q1O"
      }
    },
    {
      "cell_type": "code",
      "source": [
        "# Prony's method\n",
        "def prony(XData,tdiff):\n",
        "  N,num = XData.shape\n",
        "  N = N-1\n",
        "  n = num\n",
        "  eig = np.zeros([n,1])\n",
        "  hank_arr_inv = np.zeros([num,n,N+1-n])\n",
        "  y_arr = np.zeros([num,N+1-n,1])\n",
        "  # a_coeff = np.array([-1,0,0]).reshape(3,1)\n",
        "  a_coeff = np.array([-1] + [0]*(n)).reshape(n+1,1)\n",
        "  for i in range(num):\n",
        "    hank_arr_inv[i,:,:] = scipy.linalg.pinv(scipy.linalg.hankel(XData[n-1:N,i],XData[N-n:N,i][::-1]))\n",
        "    y_arr[i,:,:] = XData[n:N+1,i].reshape(N+1-n,1)\n",
        "  a_coeff_tmp = np.hstack((hank_arr_inv[0,:,:],hank_arr_inv[1,:,:]))@np.vstack((y_arr[0,:,:],y_arr[1,:,:]))\n",
        "  a_coeff[1:] =  a_coeff_tmp\n",
        "  roots = np.roots(a_coeff.reshape(n+1))\n",
        "  for i in range(len(roots)):\n",
        "    eig[i] = (cmath.log(roots[i])/tdiff).imag\n",
        "    print(cmath.log(roots[i])/tdiff)\n",
        "  return eig"
      ],
      "metadata": {
        "id": "BRruaDyQvoNl"
      },
      "execution_count": 45,
      "outputs": []
    },
    {
      "cell_type": "markdown",
      "source": [
        "# Linearize the Dynamics and estimate Eigenvalues"
      ],
      "metadata": {
        "id": "yjJkT2QXZmG2"
      }
    },
    {
      "cell_type": "markdown",
      "source": [
        "## Training the neural networks  and learning the Koopman matrix"
      ],
      "metadata": {
        "id": "-3q8wkLIZC9c"
      }
    },
    {
      "cell_type": "code",
      "execution_count": 13,
      "metadata": {
        "colab": {
          "base_uri": "https://localhost:8080/"
        },
        "id": "Hjb-TSFCMLCL",
        "outputId": "a0d5d5af-26a0-416c-b004-09c35a9e71e6"
      },
      "outputs": [
        {
          "output_type": "stream",
          "name": "stderr",
          "text": [
            "100%|██████████| 10/10 [01:52<00:00, 11.25s/it]\n"
          ]
        }
      ],
      "source": [
        "tp.train_net()\n",
        "tp.test_net()"
      ]
    },
    {
      "cell_type": "code",
      "execution_count": 14,
      "metadata": {
        "colab": {
          "base_uri": "https://localhost:8080/",
          "height": 1000
        },
        "id": "6S5kvERMMXNl",
        "outputId": "b7e70f42-144b-4ba9-ed39-0b8ce700365f"
      },
      "outputs": [
        {
          "output_type": "stream",
          "name": "stdout",
          "text": [
            "Saving figure /content/drive/MyDrive/3DP_KOOP_1/plot_cTTVMiy7bUa5wpDqMNRaMy_pred_loss.png\n",
            "Saving figure /content/drive/MyDrive/3DP_KOOP_1/plot_cTTVMiy7bUa5wpDqMNRaMy_total_loss.png\n"
          ]
        },
        {
          "output_type": "display_data",
          "data": {
            "text/plain": [
              "<Figure size 640x480 with 1 Axes>"
            ],
            "image/png": "[encoded data removed]"
          },
          "metadata": {}
        },
        {
          "output_type": "display_data",
          "data": {
            "text/plain": [
              "<Figure size 640x480 with 1 Axes>"
            ],
            "image/png": "[encoded data removed]"
          },
          "metadata": {}
        }
      ],
      "source": [
        "utils.plot_stats(tp, ['pred_loss', 'total_loss'])\n"
      ]
    },
    {
      "cell_type": "markdown",
      "source": [
        "## Generate a trajectory and estimate the eigenvalues"
      ],
      "metadata": {
        "id": "TGr7tLmXZ_rk"
      }
    },
    {
      "cell_type": "code",
      "source": [
        "st = time.time()\n",
        "T = tp.predict_new([[0,1.366]]).reshape(51,2) #Initial condition i.e initial state is from Xtest, #print(Xtest[0,0,:])\n",
        "#print(T[0,:])\n",
        "eig_arr = prony(T.numpy(),1)      # with Koopman method\n",
        "ed = time.time()\n",
        "time_taken = ed-st"
      ],
      "metadata": {
        "colab": {
          "base_uri": "https://localhost:8080/"
        },
        "id": "8-p10-Lz8IDN",
        "outputId": "82f09a72-a216-4963-b798-13f67f08ca32"
      },
      "execution_count": 79,
      "outputs": [
        {
          "output_type": "stream",
          "name": "stdout",
          "text": [
            "0j\n",
            "3.141592653589793j\n"
          ]
        }
      ]
    },
    {
      "cell_type": "markdown",
      "source": [
        "# Benchmarking"
      ],
      "metadata": {
        "id": "dWPAPA37d1Ei"
      }
    },
    {
      "cell_type": "markdown",
      "source": [
        "Currently there's a spurious eigenvalue(0) being estimated. **As mentioned in the [Problem Statement Document](https://www.iftomm-multibody.org/media/problems/3d%20simple%20pendulum/3d%20simple%20pendulum_vr6JJJS.pdf)**\n",
        "\n",
        "> Spurious eigenvalues may also be obtained; these must be discriminated from the real system spectrum.\n",
        "\n",
        "It is ok to get those and this can be attributed to the use of *default hyperparameters*. By **tuning the hyperparameters** (`Hyperparameter Optimization`) we can obtain more good results and thereby avoiding such estimation."
      ],
      "metadata": {
        "id": "hoPHBcJu5TzZ"
      }
    },
    {
      "cell_type": "code",
      "source": [
        "# Accuracy\n",
        "exact_eigs = np.array([-math.sqrt(9.81),math.sqrt(9.81)])\n",
        "accuracy_1 = np.linalg.norm(eig_arr-exact_eigs)\n",
        "accuracy_2 = np.linalg.norm(eig_arr[1:]-exact_eigs[1:]) # neglecting the spurious eigenvalue\n",
        "print(\"Accuracy with the spurious eigenvalue:\",accuracy_1)\n",
        "print(\"Accuracy without the spurious eigenvalue:\",accuracy_2)\n",
        "\n",
        "# CPU time\n",
        "\n",
        "print(\"CPU time for 10,000 linearizations\",(((10000*time_taken)+112)/60),\"minutes\")\n",
        "\n",
        "# 112s for learning Koopman matrix (Since it is an Global linearization, one time is enough)\n",
        "# time_taken corresponds to time taken for trajectory generation & eigenvalue estimation"
      ],
      "metadata": {
        "colab": {
          "base_uri": "https://localhost:8080/"
        },
        "id": "wtiAbWYuxSVT",
        "outputId": "3d78ece3-677e-4898-a8ba-ad274ccb5d83"
      },
      "execution_count": 78,
      "outputs": [
        {
          "output_type": "stream",
          "name": "stdout",
          "text": [
            "Accuracy with the spurious eigenvalue: 7.679792236914923\n",
            "Accuracy without the spurious eigenvalue: 0.009500700916627913\n",
            "CPU time for 10,000 linearizations 6.962307484944661 minutes\n"
          ]
        }
      ]
    },
    {
      "cell_type": "markdown",
      "source": [
        "# Future Prospects"
      ],
      "metadata": {
        "id": "a3obOHL6exFA"
      }
    },
    {
      "cell_type": "markdown",
      "source": [
        "One of the benefits of using Koopman Operator Theory is that,\n",
        "  - Based on the availability of large data, we can obtain the **Global Linearization** of the system, thereby we need not to linearize the system about an Operating point. (Here though with less data its not Globally Linearized but it can be)\n",
        "\n",
        "### Future works\n",
        "\n",
        "- Doing `Hyperparameter optimization` of Neural Networks will lead to improved results.\n",
        "\n",
        "- Use of analytical techniques such as DMD (Dynamic Mode Decomposition) instead of Deep Learning for learning Koopman Matrix can improve the linearization speeds.\n",
        "\n",
        "- Also finding ways to estimate **eigenvalues of the system in the lower dimensions** from higher dimensional Koopman matrix or using other related properties can eliminate the need for the second method (Prony's method)."
      ],
      "metadata": {
        "id": "SjNQx6qb5PwK"
      }
    }
  ],
  "metadata": {
    "colab": {
      "provenance": [],
      "collapsed_sections": [
        "ks7OC2EV6Yv3",
        "HB7kE0aqZ_AR",
        "DtvF3rKEZy0Z",
        "CrEHr1_KZ3ys",
        "GA0BxXdT6yuS"
      ]
    },
    "kernelspec": {
      "display_name": "Python 3",
      "name": "python3"
    },
    "language_info": {
      "name": "python"
    }
  },
  "nbformat": 4,
  "nbformat_minor": 0
}